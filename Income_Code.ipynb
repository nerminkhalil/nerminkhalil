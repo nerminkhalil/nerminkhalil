{
  "nbformat": 4,
  "nbformat_minor": 0,
  "metadata": {
    "colab": {
      "provenance": [],
      "authorship_tag": "ABX9TyMPhLsZKtFFEcMlz5UXxG8v",
      "include_colab_link": true
    },
    "kernelspec": {
      "name": "python3",
      "display_name": "Python 3"
    },
    "language_info": {
      "name": "python"
    }
  },
  "cells": [
    {
      "cell_type": "markdown",
      "metadata": {
        "id": "view-in-github",
        "colab_type": "text"
      },
      "source": [
        "<a href=\"https://colab.research.google.com/github/nerminkhalil/nerminkhalil/blob/main/Income_Code.ipynb\" target=\"_parent\"><img src=\"https://colab.research.google.com/assets/colab-badge.svg\" alt=\"Open In Colab\"/></a>"
      ]
    },
    {
      "cell_type": "code",
      "execution_count": 20,
      "metadata": {
        "colab": {
          "base_uri": "https://localhost:8080/"
        },
        "id": "ng2eVRi_uT2V",
        "outputId": "332af721-ff65-461d-f2e1-8746f8eb340e"
      },
      "outputs": [
        {
          "output_type": "stream",
          "name": "stdout",
          "text": [
            "✅ Decoded file saved to: decoded_data_donnees_2021_11_inc_1.csv\n"
          ]
        }
      ],
      "source": [
        "import pandas as pd\n",
        "\n",
        "# === 1. File Paths ===\n",
        "data_path = \"data_donnees_2021_11_inc.csv\"         # Income data file\n",
        "dict_path = \"11_income_output.csv\"                 # Income dictionary file\n",
        "output_path = \"decoded_data_donnees_2021_11_inc_1.csv\"\n",
        "\n",
        "# === 2. Load files (dictionary may include special characters)\n",
        "df_data = pd.read_csv(data_path)\n",
        "df_dict = pd.read_csv(dict_path, encoding='ISO-8859-1')\n",
        "\n",
        "# === 3. Decode based on all Mnemonics in the dictionary\n",
        "mnemonics = df_dict[\"Mnemonic\"].unique()\n",
        "decoded_df = df_data.copy()\n",
        "\n",
        "for mnemonic in mnemonics:\n",
        "    if mnemonic in df_data.columns:\n",
        "        sub_dict = df_dict[df_dict[\"Mnemonic\"] == mnemonic]\n",
        "        sub_dict = sub_dict.dropna(subset=[\"Code\"])\n",
        "\n",
        "        # Build decoding map: 0 → 'None', NaNs ignored\n",
        "        code_map = {int(k): str(v) if pd.notna(v) else \"None\"\n",
        "                    for k, v in zip(sub_dict[\"Code\"], sub_dict[\"Value\"])}\n",
        "\n",
        "        title = sub_dict[\"Title\"].iloc[0]\n",
        "\n",
        "        # Use .apply() to keep original if not found in dictionary\n",
        "        decoded_df[mnemonic] = df_data[mnemonic].apply(\n",
        "            lambda x: code_map.get(x, x)\n",
        "        )\n",
        "\n",
        "        decoded_df.rename(columns={mnemonic: title}, inplace=True)\n",
        "\n",
        "# === 4. Save to CSV\n",
        "decoded_df.to_csv(output_path, index=False, encoding='utf-8')\n",
        "print(f\"✅ Decoded file saved to: {output_path}\")\n"
      ]
    },
    {
      "cell_type": "code",
      "source": [],
      "metadata": {
        "id": "pd9IUC0wzvTr"
      },
      "execution_count": null,
      "outputs": []
    }
  ]
}