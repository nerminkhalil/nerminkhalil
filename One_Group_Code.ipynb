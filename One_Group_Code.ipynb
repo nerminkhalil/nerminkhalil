{
  "nbformat": 4,
  "nbformat_minor": 0,
  "metadata": {
    "colab": {
      "provenance": [],
      "authorship_tag": "ABX9TyPzKbSdUMbuUHGmiVyNRswh",
      "include_colab_link": true
    },
    "kernelspec": {
      "name": "python3",
      "display_name": "Python 3"
    },
    "language_info": {
      "name": "python"
    }
  },
  "cells": [
    {
      "cell_type": "markdown",
      "metadata": {
        "id": "view-in-github",
        "colab_type": "text"
      },
      "source": [
        "<a href=\"https://colab.research.google.com/github/nerminkhalil/nerminkhalil/blob/main/One_Group_Code.ipynb\" target=\"_parent\"><img src=\"https://colab.research.google.com/assets/colab-badge.svg\" alt=\"Open In Colab\"/></a>"
      ]
    },
    {
      "cell_type": "code",
      "execution_count": 9,
      "metadata": {
        "colab": {
          "base_uri": "https://localhost:8080/"
        },
        "id": "ng2eVRi_uT2V",
        "outputId": "e0d0b0f4-dc3b-420c-9923-c076470e2c45"
      },
      "outputs": [
        {
          "output_type": "stream",
          "name": "stdout",
          "text": [
            "✅ Decoded file saved to:\n",
            "decoded_data_donnees_2021_13_hou_1.csv\n"
          ]
        }
      ],
      "source": [
        "import pandas as pd\n",
        "\n",
        "# === 1. File Paths ===\n",
        "data_path = r\"data_donnees_2021_13_hou.csv\"\n",
        "dict_path = r\"/content/14_dwelling_output.csv\"\n",
        "output_path = r\"decoded_data_donnees_2021_13_hou_1.csv\"\n",
        "\n",
        "# === 2. Load Files ===\n",
        "df_data = pd.read_csv(data_path)\n",
        "df_dict = pd.read_csv(dict_path)\n",
        "\n",
        "# === 3. Get all unique Mnemonics from dictionary ===\n",
        "mnemonics = df_dict[\"Mnemonic\"].unique()\n",
        "\n",
        "# === 4. Create a copy to decode ===\n",
        "decoded_df = df_data.copy()\n",
        "\n",
        "# === 5. Decode each Mnemonic from the dictionary ===\n",
        "for mnemonic in mnemonics:\n",
        "    if mnemonic in df_data.columns:\n",
        "        sub_dict = df_dict[df_dict[\"Mnemonic\"] == mnemonic]\n",
        "        sub_dict = sub_dict.dropna(subset=[\"Code\"])  # Ensure keys are valid\n",
        "        # Fix: make sure 0 is not skipped, and None is interpreted as string\n",
        "        code_map = {int(k): str(v) if pd.notna(v) else \"None\" for k, v in zip(sub_dict[\"Code\"], sub_dict[\"Value\"])}\n",
        "        title = sub_dict[\"Title\"].iloc[0]\n",
        "\n",
        "        decoded_df[mnemonic] = df_data[mnemonic].map(code_map)\n",
        "        decoded_df.rename(columns={mnemonic: title}, inplace=True)\n",
        "\n",
        "# === 6. Save Output ===\n",
        "decoded_df.to_csv(output_path, index=False)\n",
        "print(f\"✅ Decoded file saved to:\\n{output_path}\")\n"
      ]
    },
    {
      "cell_type": "code",
      "source": [],
      "metadata": {
        "id": "pd9IUC0wzvTr"
      },
      "execution_count": null,
      "outputs": []
    }
  ]
}