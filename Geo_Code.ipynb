{
  "nbformat": 4,
  "nbformat_minor": 0,
  "metadata": {
    "colab": {
      "provenance": [],
      "authorship_tag": "ABX9TyOeMCYxfuZToXcBkefoNnQH",
      "include_colab_link": true
    },
    "kernelspec": {
      "name": "python3",
      "display_name": "Python 3"
    },
    "language_info": {
      "name": "python"
    }
  },
  "cells": [
    {
      "cell_type": "markdown",
      "metadata": {
        "id": "view-in-github",
        "colab_type": "text"
      },
      "source": [
        "<a href=\"https://colab.research.google.com/github/nerminkhalil/nerminkhalil/blob/main/Geo_Code.ipynb\" target=\"_parent\"><img src=\"https://colab.research.google.com/assets/colab-badge.svg\" alt=\"Open In Colab\"/></a>"
      ]
    },
    {
      "cell_type": "code",
      "execution_count": 19,
      "metadata": {
        "colab": {
          "base_uri": "https://localhost:8080/"
        },
        "id": "ng2eVRi_uT2V",
        "outputId": "2e144862-e674-4650-d1a2-535b63b65c9d"
      },
      "outputs": [
        {
          "output_type": "stream",
          "name": "stdout",
          "text": [
            "✅ Decoded file saved to: decoded_data_donnees_2021_15_geo_1.csv\n"
          ]
        }
      ],
      "source": [
        "import pandas as pd\n",
        "\n",
        "# === 1. File Paths ===\n",
        "data_path = \"data_donnees_2021_15_geo.csv\"         # Your data file\n",
        "dict_path = \"15_geography_output.csv\"                # Dictionary file\n",
        "output_path = \"decoded_data_donnees_2021_15_geo_1.csv\"\n",
        "\n",
        "# === 2. Load files with safe encoding ===\n",
        "df_data = pd.read_csv(data_path)\n",
        "df_dict = pd.read_csv(dict_path, encoding='ISO-8859-1')  # Handles French or accented characters\n",
        "\n",
        "# === 3. Get unique Mnemonics to decode multiple columns from one dictionary ===\n",
        "mnemonics = df_dict[\"Mnemonic\"].unique()\n",
        "decoded_df = df_data.copy()\n",
        "\n",
        "# === 4. Decode values column-by-column ===\n",
        "for mnemonic in mnemonics:\n",
        "    if mnemonic in df_data.columns:\n",
        "        sub_dict = df_dict[df_dict[\"Mnemonic\"] == mnemonic]\n",
        "\n",
        "        # Drop rows with missing codes (just in case)\n",
        "        sub_dict = sub_dict.dropna(subset=[\"Code\"])\n",
        "\n",
        "        # Ensure 0 is preserved and values like None are handled as strings\n",
        "        code_map = {int(k): str(v) if pd.notna(v) else \"None\" for k, v in zip(sub_dict[\"Code\"], sub_dict[\"Value\"])}\n",
        "\n",
        "        title = sub_dict[\"Title\"].iloc[0]\n",
        "        decoded_df[mnemonic] = df_data[mnemonic].map(code_map)\n",
        "        decoded_df.rename(columns={mnemonic: title}, inplace=True)\n",
        "\n",
        "# === 5. Save output\n",
        "decoded_df.to_csv(output_path, index=False, encoding=\"utf-8\")\n",
        "print(f\"✅ Decoded file saved to: {output_path}\")\n"
      ]
    },
    {
      "cell_type": "code",
      "source": [],
      "metadata": {
        "id": "pd9IUC0wzvTr"
      },
      "execution_count": null,
      "outputs": []
    }
  ]
}